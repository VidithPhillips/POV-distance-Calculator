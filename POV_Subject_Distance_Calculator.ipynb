{
  "nbformat": 4,
  "nbformat_minor": 0,
  "metadata": {
    "colab": {
      "provenance": []
    },
    "kernelspec": {
      "name": "python3",
      "display_name": "Python 3"
    },
    "language_info": {
      "name": "python"
    }
  },
  "cells": [
    {
      "cell_type": "markdown",
      "source": [
        "Import requirements"
      ],
      "metadata": {
        "id": "nOJlu9zWw6DN"
      }
    },
    {
      "cell_type": "code",
      "execution_count": null,
      "metadata": {
        "id": "Fq59DCyNwfEN"
      },
      "outputs": [],
      "source": [
        "import cv2\n",
        "import math\n",
        "!pip install -U ultralytics\n",
        "from ultralytics import YOLO\n",
        "from ultralytics.utils.plotting import Annotator, colors"
      ]
    },
    {
      "cell_type": "markdown",
      "source": [
        "POV Distance Calculator"
      ],
      "metadata": {
        "id": "KfVqW4xuxBhl"
      }
    },
    {
      "cell_type": "code",
      "source": [
        "model = YOLO(\"yolov8s.pt\")\n",
        "cap = cv2.VideoCapture(\"Add your video file path\")\n",
        "\n",
        "w, h, fps = (int(cap.get(x)) for x in (cv2.CAP_PROP_FRAME_WIDTH, cv2.CAP_PROP_FRAME_HEIGHT, cv2.CAP_PROP_FPS))\n",
        "\n",
        "out = cv2.VideoWriter('visioneye-distance-calculation(2).avi', cv2.VideoWriter_fourcc(*'MJPG'), fps, (w, h))\n",
        "\n",
        "center_point = (0, h)\n",
        "pixel_per_meter = 10\n",
        "\n",
        "txt_color, txt_background, bbox_clr = ((0, 0, 0), (255, 255, 255), (255, 0, 255))\n",
        "\n",
        "while True:\n",
        "    ret, im0 = cap.read()\n",
        "    if not ret:\n",
        "        print(\"Video frame is empty or video processing has been successfully completed.\")\n",
        "        break\n",
        "\n",
        "    annotator = Annotator(im0, line_width=2)\n",
        "\n",
        "    results = model.track(im0, persist=True)\n",
        "    boxes = results[0].boxes.xyxy.cpu()\n",
        "\n",
        "    if results[0].boxes.id is not None:\n",
        "        track_ids = results[0].boxes.id.int().cpu().tolist()\n",
        "\n",
        "        for box, track_id in zip(boxes, track_ids):\n",
        "            annotator.box_label(box, label=str(track_id), color=bbox_clr)\n",
        "            annotator.visioneye(box, center_point)\n",
        "\n",
        "            x1, y1 = int((box[0] + box[2]) // 2), int((box[1] + box[3]) // 2)    # Bounding box centroid\n",
        "\n",
        "            distance = (math.sqrt((x1 - center_point[0]) ** 2 + (y1 - center_point[1]) ** 2))/pixel_per_meter\n",
        "\n",
        "            text_size, _ = cv2.getTextSize(f\"Distance: {distance:.2f} m\", cv2.FONT_HERSHEY_SIMPLEX,1.2, 3)\n",
        "            cv2.rectangle(im0, (x1, y1 - text_size[1] - 10),(x1 + text_size[0] + 10, y1), txt_background, -1)\n",
        "            cv2.putText(im0, f\"Distance: {distance:.2f} m\",(x1, y1 - 5), cv2.FONT_HERSHEY_SIMPLEX, 1.2,txt_color, 3)\n",
        "\n",
        "    out.write(im0)\n",
        "\n",
        "    if cv2.waitKey(1) & 0xFF == ord('q'):\n",
        "        break\n",
        "\n",
        "out.release()\n",
        "cap.release()\n",
        "cv2.destroyAllWindows()"
      ],
      "metadata": {
        "id": "clKifW_Dwn2y"
      },
      "execution_count": null,
      "outputs": []
    },
    {
      "cell_type": "markdown",
      "source": [
        "Download Annotated Video"
      ],
      "metadata": {
        "id": "b_PQ6FvSxFiv"
      }
    },
    {
      "cell_type": "code",
      "source": [
        "from google.colab import files\n",
        "files.download('visioneye-distance-calculation.avi')\n"
      ],
      "metadata": {
        "id": "m09syxQUw43v"
      },
      "execution_count": null,
      "outputs": []
    }
  ]
}